{
 "cells": [
  {
   "cell_type": "code",
   "execution_count": 1,
   "id": "b39648bb",
   "metadata": {},
   "outputs": [],
   "source": [
    "import numpy as np\n",
    "import matplotlib.pyplot as plt\n",
    "from numpy import random\n",
    "from scipy.fft import fft, fftfreq\n",
    "from scipy.signal import argrelextrema"
   ]
  },
  {
   "cell_type": "code",
   "execution_count": 9,
   "id": "f0c40330",
   "metadata": {},
   "outputs": [
    {
     "name": "stdout",
     "output_type": "stream",
     "text": [
      "[-20.   -18.75 -17.5  ...  17.5   18.75  20.  ]\n"
     ]
    },
    {
     "data": {
      "image/png": "[encoded data removed]",
      "text/plain": [
       "<Figure size 432x288 with 1 Axes>"
      ]
     },
     "metadata": {
      "needs_background": "light"
     },
     "output_type": "display_data"
    }
   ],
   "source": [
    "\n",
    "\n",
    "def get_frecuency(xf,ite):\n",
    "    erroak=[]\n",
    "    dif=0\n",
    "    # for local minima\n",
    "    minima=argrelextrema(xf,np.less)[0]\n",
    "    for inde in minima:\n",
    "            erroak.append(ite[inde])\n",
    "            for i in range(len(erroak)-1):\n",
    "                dif+=erroak[i+1]-erroak[i]\n",
    "    print(erroak)\n",
    "    return dif/len(erroak)\n",
    "\n",
    "\n",
    "def MeshGenerator(pointDis,MeshSize):\n",
    "    \n",
    "    pausux=pointDis\n",
    "    pausuy=pointDis\n",
    "    numx=round(MeshSize/pointDis)\n",
    "    numy=round(MeshSize/pointDis)\n",
    "    if(np.mod(numx,2)==0):\n",
    "        numx+=1\n",
    "    if(np.mod(numy,2)==0):\n",
    "        numy+=1\n",
    "    x=np.zeros(numx*numy)\n",
    "    y=np.zeros(numy*numy)\n",
    "    for i in range(numx):\n",
    "        for j in range(numy):\n",
    "            x[j+numx*i]=pausux*i-MeshSize/2\n",
    "            y[j+numy*i]=pausuy*j-MeshSize/2\n",
    "    fig,plot=plt.subplots()\n",
    "    plot.set_title(\"Mesh\")\n",
    "    plot.scatter(x,y)\n",
    "pointDis=1.25\n",
    "MeshSize=40\n",
    "MeshGenerator(pointDis,MeshSize)"
   ]
  },
  {
   "cell_type": "code",
   "execution_count": null,
   "id": "5c565184",
   "metadata": {},
   "outputs": [],
   "source": []
  }
 ],
 "metadata": {
  "kernelspec": {
   "display_name": "Python 3 (ipykernel)",
   "language": "python",
   "name": "python3"
  },
  "language_info": {
   "codemirror_mode": {
    "name": "ipython",
    "version": 3
   },
   "file_extension": ".py",
   "mimetype": "text/x-python",
   "name": "python",
   "nbconvert_exporter": "python",
   "pygments_lexer": "ipython3",
   "version": "3.9.7"
  },
  "widgets": {
   "application/vnd.jupyter.widget-state+json": {
    "state": {},
    "version_major": 2,
    "version_minor": 0
   }
  }
 },
 "nbformat": 4,
 "nbformat_minor": 5
}
